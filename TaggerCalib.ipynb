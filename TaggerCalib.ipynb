{
 "cells": [
  {
   "cell_type": "markdown",
   "metadata": {},
   "source": [
    "# A (Possible) Code for Calibrating the Tagger Timing"
   ]
  },
  {
   "cell_type": "markdown",
   "metadata": {},
   "source": [
    "First, we import the tools we'll need:"
   ]
  },
  {
   "cell_type": "code",
   "execution_count": 2,
   "metadata": {},
   "outputs": [
    {
     "name": "stdout",
     "output_type": "stream",
     "text": [
      "Welcome to JupyROOT 6.16/00\n"
     ]
    }
   ],
   "source": [
    "import Acqu as aq\n",
    "import AcquDetector as aqdet\n",
    "import ROOT\n",
    "import numpy as np\n",
    "from rootpy.plotting import histogram, Hist2D, Hist, Canvas"
   ]
  },
  {
   "cell_type": "markdown",
   "metadata": {},
   "source": [
    "Import the data to be analyzed:"
   ]
  },
  {
   "cell_type": "code",
   "execution_count": 3,
   "metadata": {},
   "outputs": [
    {
     "name": "stdout",
     "output_type": "stream",
     "text": [
      "Mk2 Data\n"
     ]
    }
   ],
   "source": [
    "inFile = '/scratch/2019-05_Timepix/Timepix_33.dat'\n",
    "aq.openFile(inFile)"
   ]
  },
  {
   "cell_type": "markdown",
   "metadata": {},
   "source": [
    "Load in the detector file for the Tagger:"
   ]
  },
  {
   "cell_type": "code",
   "execution_count": 4,
   "metadata": {},
   "outputs": [
    {
     "name": "stdout",
     "output_type": "stream",
     "text": [
      "taggerNewer.json\n"
     ]
    }
   ],
   "source": [
    "aqdet.LoadDetectors(['taggerNewer.json'])"
   ]
  },
  {
   "cell_type": "markdown",
   "metadata": {},
   "source": [
    "We set up histograms for each of the channels, and then fill them with tagger times from our data:"
   ]
  },
  {
   "cell_type": "code",
   "execution_count": 5,
   "metadata": {
    "scrolled": true
   },
   "outputs": [
    {
     "name": "stdout",
     "output_type": "stream",
     "text": [
      "('Events Processed: ', 5000)\n",
      "('Events Processed: ', 10000)\n",
      "('Events Processed: ', 15000)\n",
      "('Events Processed: ', 20000)\n",
      "('Events Processed: ', 25000)\n",
      "('Events Processed: ', 30000)\n",
      "('Events Processed: ', 35000)\n",
      "('Events Processed: ', 40000)\n",
      "('Events Processed: ', 45000)\n",
      "('Events Processed: ', 50000)\n",
      "('Events Processed: ', 55000)\n",
      "('Events Processed: ', 60000)\n",
      "('Events Processed: ', 65000)\n",
      "('Events Processed: ', 70000)\n",
      "('Events Processed: ', 75000)\n",
      "('Events Processed: ', 80000)\n",
      "('Events Processed: ', 85000)\n",
      "('Events Processed: ', 90000)\n",
      "('Events Processed: ', 95000)\n",
      "('Events Processed: ', 100000)\n",
      "('Events Processed: ', 105000)\n",
      "('Events Processed: ', 110000)\n",
      "('Events Processed: ', 115000)\n",
      "('Events Processed: ', 120000)\n",
      "('Events Processed: ', 125000)\n",
      "('Events Processed: ', 130000)\n",
      "('Events Processed: ', 135000)\n",
      "('Events Processed: ', 140000)\n",
      "('Events Processed: ', 145000)\n",
      "('Events Processed: ', 150000)\n",
      "('Events Processed: ', 155000)\n",
      "('Events Processed: ', 160000)\n",
      "('Events Processed: ', 165000)\n",
      "('Events Processed: ', 170000)\n",
      "('Events Processed: ', 175000)\n",
      "('Events Processed: ', 180000)\n",
      "('Events Processed: ', 185000)\n",
      "('Events Processed: ', 190000)\n",
      "('Events Processed: ', 195000)\n",
      "('Events Processed: ', 200000)\n",
      "('Events Processed: ', 205000)\n",
      "('Events Processed: ', 210000)\n",
      "('Events Processed: ', 215000)\n",
      "('Events Processed: ', 220000)\n",
      "('Events Processed: ', 225000)\n",
      "('Events Processed: ', 230000)\n",
      "('Events Processed: ', 235000)\n",
      "('Events Processed: ', 240000)\n",
      "('Events Processed: ', 245000)\n",
      "('Events Processed: ', 250000)\n",
      "('Events Processed: ', 255000)\n",
      "('Events Processed: ', 260000)\n",
      "('Events Processed: ', 265000)\n",
      "('Events Processed: ', 270000)\n",
      "('Events Processed: ', 275000)\n",
      "('Events Processed: ', 280000)\n",
      "('Events Processed: ', 285000)\n",
      "('Events Processed: ', 290000)\n",
      "('Events Processed: ', 295000)\n",
      "('Events Processed: ', 300000)\n",
      "('Events Processed: ', 305000)\n",
      "('Events Processed: ', 310000)\n",
      "('Events Processed: ', 315000)\n",
      "('Events Processed: ', 320000)\n",
      "('Events Processed: ', 325000)\n",
      "('Events Processed: ', 330000)\n",
      "('Events Processed: ', 335000)\n",
      "('Events Processed: ', 340000)\n",
      "('Events Processed: ', 345000)\n",
      "('Events Processed: ', 350000)\n",
      "('Events Processed: ', 355000)\n",
      "('Events Processed: ', 360000)\n",
      "('Events Processed: ', 365000)\n",
      "('Events Processed: ', 370000)\n",
      "('Events Processed: ', 375000)\n",
      "('Events Processed: ', 380000)\n",
      "('Events Processed: ', 385000)\n",
      "('Events Processed: ', 390000)\n",
      "('Events Processed: ', 395000)\n",
      "('Events Processed: ', 400000)\n",
      "('Events Processed: ', 405000)\n",
      "('Events Processed: ', 410000)\n",
      "('Events Processed: ', 415000)\n",
      "('Events Processed: ', 420000)\n",
      "('Events Processed: ', 425000)\n",
      "('Events Processed: ', 430000)\n",
      "('Events Processed: ', 435000)\n",
      "('Events Processed: ', 440000)\n",
      "('Events Processed: ', 445000)\n",
      "('Events Processed: ', 450000)\n",
      "('Events Processed: ', 455000)\n",
      "('Events Processed: ', 460000)\n",
      "('Events Processed: ', 465000)\n",
      "('Events Processed: ', 470000)\n",
      "('Events Processed: ', 475000)\n",
      "('Events Processed: ', 480000)\n",
      "('Events Processed: ', 485000)\n",
      "('Events Processed: ', 490000)\n",
      "('Events Processed: ', 495000)\n",
      "('Events Processed: ', 500000)\n"
     ]
    }
   ],
   "source": [
    "taggerChannels = aqdet.Channels['Tagger']                 # number of channels in the tagger (368)\n",
    "\n",
    "histos = [None]*taggerChannels          # set up an array of 368 histograms to fill      \n",
    "\n",
    "for i in range(taggerChannels):         # for each tagger channel\n",
    "    histos[i] = Hist(1300,-500,800)     # set up a histogram for that tagger channel\n",
    "\n",
    "def plotCalTagger():\n",
    "    data = aqdet.Calibrate(aq.adcArray)\n",
    "    taggerTimes = aqdet.Arrays['Tagger']['Time']\n",
    "    \n",
    "    for dat in taggerTimes:\n",
    "        for time in dat['Time']:\n",
    "            for i in range(taggerChannels):\n",
    "                if (dat['channel']==i):\n",
    "                    histos[i].Fill(time)\n",
    "                    \n",
    "    if(aq.eventNo%5000==0):\n",
    "        print(\"Events Processed: \",aq.eventNo)\n",
    "    \n",
    "aq.runFunction(plotCalTagger,0,500000)"
   ]
  },
  {
   "cell_type": "markdown",
   "metadata": {},
   "source": [
    "Now we plot the data for the tagger channels and apply a gaussian fit (with an offset) to them:"
   ]
  },
  {
   "cell_type": "code",
   "execution_count": 9,
   "metadata": {
    "scrolled": true
   },
   "outputs": [
    {
     "name": "stdout",
     "output_type": "stream",
     "text": [
      "Check channel 39 for sigma\n",
      "(39, 1, 111.7557543200525, -7.2037017650188115, 20.81258366963532)\n",
      "Check channel 40 for peak\n",
      "(40, 1, 290.5889535667818, -63.126704473321276, 18.93971424949334)\n",
      "Check channel 40 for sigma\n",
      "(40, 1, 290.5889535667818, -63.126704473321276, 18.93971424949334)\n",
      "Check channel 42 for peak\n",
      "(42, 1, 187.25577884628433, 0.5048980598116183, 18.316545535095237)\n",
      "Check channel 195 for peak\n",
      "(195, 3, 43.45611267260515, -16.800632880160194, 2.445988145897738)\n",
      "Check channel 195 for sigma\n",
      "(195, 3, 43.45611267260515, -16.800632880160194, 2.445988145897738)\n",
      "Check channel 196 for peak\n",
      "(196, 1, 42.84138006877663, -2.2845488908148637, 2.3667289479597495)\n",
      "Check channel 197 for peak\n",
      "(197, 1, 43.379957025620314, -1.041969477823702, 2.400424800909461)\n",
      "Check channel 198 for peak\n",
      "(198, 1, 44.97940286629268, 0.824637188387248, 2.2625608532562973)\n",
      "Check channel 199 for sigma\n",
      "(199, 4, 143.08063749978524, -15.46117722304201, 2.2158395998530267)\n",
      "Check channel 200 for sigma\n",
      "(200, 1, 111.7242031769513, -18.20439727516563, 2.132816589414389)\n",
      "Check channel 201 for sigma\n",
      "(201, 1, 108.41379623903484, -22.44535289121666, 2.207942949871265)\n",
      "Histogram 216 is empty (has 0.0 entries).\n",
      "Histogram 273 is empty (has 1.0 entries).\n",
      "Check channel 292 for sigma\n",
      "(292, 2, 129.93125771275305, -142.5306381459472, 1.4958290099560378)\n",
      "Check channel 293 for peak\n",
      "(293, 1, 323.41676139023355, -120.18090644530405, 1.6173953791022264)\n",
      "Check channel 293 for sigma\n",
      "(293, 1, 323.41676139023355, -120.18090644530405, 1.6173953791022264)\n",
      "Histogram 327 is empty (has 1.0 entries).\n"
     ]
    }
   ],
   "source": [
    "ROOT.enableJSVis()\n",
    "\n",
    "tagger_times = ROOT.TFile(\"tagger_times.root\",\"RECREATE\")\n",
    "\n",
    "\n",
    "myFit = ROOT.TF1(\"myFit\",\"gaus(0)+pol0(3)\")                   # make a gaussian fit with an offset/background\n",
    "myFit.SetParNames(\"constant\",\"mean\",\"stdev\",\"background\")     # label the parameters\n",
    "\n",
    "\n",
    "peak = [None]*taggerChannels\n",
    "sigma = [None]*taggerChannels\n",
    "bgLevel = [None]*taggerChannels\n",
    "\n",
    "pk = 140\n",
    "sig = 1.1\n",
    "bg = 100\n",
    "\n",
    "\n",
    "for i in range(taggerChannels):                                        \n",
    "    myFit.SetParameter(1,pk)                 \n",
    "    myFit.SetParameter(2,sig)                \n",
    "    myFit.SetParameter(3,bg)                \n",
    "    \n",
    "    histos[i].SetTitle(\"Channel \"+str(i))      \n",
    "    histos[i].Draw()                \n",
    "    \n",
    "    if(histos[i].GetEntries()>10):                                     \n",
    "        histos[i].Fit('myFit','SQ','',-300,600)                           \n",
    "        peak[i] = histos[i].Fit('myFit','SQ','',-300,600).Get().Parameter(1)\n",
    "        sigma[i] = histos[i].Fit('myFit','SQ','',-300,600).Get().Parameter(2)\n",
    "        bgLevel[i] = histos[i].Fit('myFit','SQ','',-300,600).Get().Parameter(3) \n",
    "        \n",
    "        k=1\n",
    "        while(ROOT.gMinuit.fCstatu!=\"CONVERGED \"):                                     \n",
    "            myFit.SetParameter(1,145-k)                 \n",
    "            myFit.SetParameter(2,1)                   \n",
    "            myFit.SetParameter(3,80-k)\n",
    "            \n",
    "            peak[i] = histos[i].Fit('myFit','SQ','',-300,600).Get().Parameter(1)\n",
    "            sigma[i] = histos[i].Fit('myFit','SQ','',-300,600).Get().Parameter(2)\n",
    "            bgLevel[i] = histos[i].Fit('myFit','SQ','',-300,600).Get().Parameter(3) \n",
    "            \n",
    "            k+=1\n",
    "            \n",
    "        pk = peak[i]\n",
    "        sig = sigma[i]\n",
    "        bg = bgLevel[i]\n",
    "        \n",
    "        if (peak[i]>180 or peak[i]<100):\n",
    "            print(\"Check channel \"+ str(i)+\" for peak\")\n",
    "            print(i,k,pk,sig,bg)\n",
    "        if (sigma[i]<-5):\n",
    "            print(\"Check channel \"+ str(i)+\" for sigma\")\n",
    "            print(i,k,pk,sig,bg)\n",
    "            \n",
    "    else:                                            \n",
    "        print(\"Histogram \"+str(i)+\" is empty (has \"+str(histos[i].GetEntries())+\" entries).\")      \n",
    "     \n",
    "    histos[i].Write(\"tagger_times\")    \n",
    "    \n",
    "    "
   ]
  },
  {
   "cell_type": "markdown",
   "metadata": {},
   "source": [
    "Finding how much each peak is off from zero, and setting it back to zero (not worked on yet):"
   ]
  },
  {
   "cell_type": "code",
   "execution_count": null,
   "metadata": {
    "scrolled": true
   },
   "outputs": [],
   "source": [
    "bins = 1200\n",
    "ROOT.enableJSVis()\n",
    "c2 = ROOT.TCanvas(\"my2\",\"Title\",1000,2500)\n",
    "c2.Divide(2,5)\n",
    "\n",
    "histos2 = [None]*10\n",
    "diff = [None]*10\n",
    "for i in range(10):\n",
    "    histos2[i] = Hist(bins,300,1500)\n",
    "    diff[i] = int(round(means[i]-800))\n",
    "\n",
    "for i in range(10):\n",
    "    for j in range(bins):\n",
    "        histos2[i].SetBinContent(j-diff[i],histos2[i].GetBinContent(j))\n",
    "                 \n",
    "    c2.cd(i+1)\n",
    "    histos2[i].SetTitle(\"Channel \"+str(i))\n",
    "    histos2[i].Draw(\"colz\")\n",
    "    myFit.SetParameter(1,800)\n",
    "    myFit.SetParameter(2,5)\n",
    "    histos2[i].Fit('myFit')\n",
    "    \n",
    "c2.Draw()"
   ]
  },
  {
   "cell_type": "code",
   "execution_count": null,
   "metadata": {},
   "outputs": [],
   "source": []
  }
 ],
 "metadata": {
  "kernelspec": {
   "display_name": "Python 2",
   "language": "python",
   "name": "python2"
  },
  "language_info": {
   "codemirror_mode": {
    "name": "ipython",
    "version": 2
   },
   "file_extension": ".py",
   "mimetype": "text/x-python",
   "name": "python",
   "nbconvert_exporter": "python",
   "pygments_lexer": "ipython2",
   "version": "2.7.5"
  }
 },
 "nbformat": 4,
 "nbformat_minor": 2
}
