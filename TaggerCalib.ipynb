{
 "cells": [
  {
   "cell_type": "markdown",
   "metadata": {},
   "source": [
    "# A (Possible) Code for Calibrating the Tagger Timing"
   ]
  },
  {
   "cell_type": "markdown",
   "metadata": {},
   "source": [
    "First, we import the tools we'll need:"
   ]
  },
  {
   "cell_type": "code",
   "execution_count": 1,
   "metadata": {},
   "outputs": [
    {
     "name": "stdout",
     "output_type": "stream",
     "text": [
      "Welcome to JupyROOT 6.16/00\n"
     ]
    }
   ],
   "source": [
    "import Acqu as aq\n",
    "import AcquDetector as aqdet\n",
    "import ROOT\n",
    "import numpy as np\n",
    "from rootpy.plotting import histogram, Hist2D, Hist, Canvas"
   ]
  },
  {
   "cell_type": "markdown",
   "metadata": {},
   "source": [
    "Import the data to be analyzed:"
   ]
  },
  {
   "cell_type": "code",
   "execution_count": 2,
   "metadata": {},
   "outputs": [
    {
     "name": "stdout",
     "output_type": "stream",
     "text": [
      "Mk2 Data\n"
     ]
    }
   ],
   "source": [
    "inFile = '/scratch/2019-05_Timepix/Timepix_33.dat'\n",
    "aq.openFile(inFile)"
   ]
  },
  {
   "cell_type": "markdown",
   "metadata": {},
   "source": [
    "Load in the detector file for the Tagger:"
   ]
  },
  {
   "cell_type": "code",
   "execution_count": 3,
   "metadata": {},
   "outputs": [
    {
     "name": "stdout",
     "output_type": "stream",
     "text": [
      "taggerNew.json\n"
     ]
    }
   ],
   "source": [
    "aqdet.LoadDetectors(['taggerNew.json'])"
   ]
  },
  {
   "cell_type": "markdown",
   "metadata": {},
   "source": [
    "Now we plot the data for the tagger channels and apply a gaussian fit (with an offset) to them (note that onl tbe first 10 channels are done, as it's very slow running to do all the channels at once):"
   ]
  },
  {
   "cell_type": "code",
   "execution_count": 7,
   "metadata": {
    "scrolled": false
   },
   "outputs": [
    {
     "name": "stderr",
     "output_type": "stream",
     "text": [
      "WARNING:ROOT.TCanvas.Constructor] Deleting canvas with same name: my1\n"
     ]
    },
    {
     "name": "stdout",
     "output_type": "stream",
     "text": [
      "almost done\n"
     ]
    },
    {
     "ename": "AttributeError",
     "evalue": "'Hist' object has no attribute 'GetParam'",
     "output_type": "error",
     "traceback": [
      "\u001b[0;31m\u001b[0m",
      "\u001b[0;31mAttributeError\u001b[0mTraceback (most recent call last)",
      "\u001b[0;32m<ipython-input-7-4cd46cbdc74b>\u001b[0m in \u001b[0;36m<module>\u001b[0;34m()\u001b[0m\n\u001b[1;32m     42\u001b[0m     \u001b[0mhistos\u001b[0m\u001b[0;34m[\u001b[0m\u001b[0mi\u001b[0m\u001b[0;34m]\u001b[0m\u001b[0;34m.\u001b[0m\u001b[0mDraw\u001b[0m\u001b[0;34m(\u001b[0m\u001b[0;34m\"colz\"\u001b[0m\u001b[0;34m)\u001b[0m\u001b[0;34m\u001b[0m\u001b[0m\n\u001b[1;32m     43\u001b[0m     \u001b[0mhistos\u001b[0m\u001b[0;34m[\u001b[0m\u001b[0mi\u001b[0m\u001b[0;34m]\u001b[0m\u001b[0;34m.\u001b[0m\u001b[0mFit\u001b[0m\u001b[0;34m(\u001b[0m\u001b[0;34m'myFit'\u001b[0m\u001b[0;34m)\u001b[0m\u001b[0;34m\u001b[0m\u001b[0m\n\u001b[0;32m---> 44\u001b[0;31m     \u001b[0;32mprint\u001b[0m\u001b[0;34m(\u001b[0m\u001b[0mhistos\u001b[0m\u001b[0;34m[\u001b[0m\u001b[0mi\u001b[0m\u001b[0;34m]\u001b[0m\u001b[0;34m.\u001b[0m\u001b[0mGetParam\u001b[0m\u001b[0;34m(\u001b[0m\u001b[0;36m2\u001b[0m\u001b[0;34m)\u001b[0m\u001b[0;34m)\u001b[0m\u001b[0;34m\u001b[0m\u001b[0m\n\u001b[0m\u001b[1;32m     45\u001b[0m \u001b[0mc1\u001b[0m\u001b[0;34m.\u001b[0m\u001b[0mDraw\u001b[0m\u001b[0;34m(\u001b[0m\u001b[0;34m)\u001b[0m\u001b[0;34m\u001b[0m\u001b[0m\n",
      "\u001b[0;31mAttributeError\u001b[0m: 'Hist' object has no attribute 'GetParam'"
     ]
    },
    {
     "name": "stdout",
     "output_type": "stream",
     "text": [
      " FCN=1242.24 FROM MIGRAD    STATUS=CONVERGED     254 CALLS         255 TOTAL\n",
      "                     EDM=1.38585e-06    STRATEGY= 1      ERROR MATRIX ACCURATE \n",
      "  EXT PARAMETER                                   STEP         FIRST   \n",
      "  NO.   NAME      VALUE            ERROR          SIZE      DERIVATIVE \n",
      "   1  constant     2.39392e+01   1.50416e+00   2.18878e-02  -6.99260e-04\n",
      "   2  mean         8.80786e+02   5.85320e-01   9.99502e-03   2.07127e-03\n",
      "   3  stdev        8.92479e+00   4.48927e-01   6.47290e-03  -3.78660e-04\n",
      "   4  offset       7.28029e+00   8.65261e-02   1.47188e-03  -8.93744e-03\n"
     ]
    }
   ],
   "source": [
    "taggerChannels = aqdet.Channels['Tagger'] # number of channels in the tagger (368)\n",
    "\n",
    "myFit = ROOT.TF1(\"myFit\",\"gaus(0)+pol0(3)\")\n",
    "myFit.SetParameter(1,880)\n",
    "myFit.SetParameter(2,10)\n",
    "myFit.SetParNames(\"constant\",\"mean\",\"stdev\",\"offset\")\n",
    "\n",
    "\n",
    "# histos = [None]*taggerChannels\n",
    "histos = [None]*10\n",
    "\n",
    "# for i in range(taggerChannels):\n",
    "for i in range(10):\n",
    "    histos[i] = Hist(1200,300,1500)\n",
    "\n",
    "def plotCalTagger():\n",
    "    data = aqdet.Calibrate(aq.adcArray)\n",
    "    taggerTimes = aqdet.Arrays['Tagger']['Time']\n",
    "    \n",
    "    for dat in taggerTimes:\n",
    "        for time in dat['Time']:\n",
    "            # for i in range(taggerChannels):\n",
    "            for i in range(10):\n",
    "                if (dat['channel']==(i)):\n",
    "                    histos[i].Fill(time)  \n",
    "    \n",
    "aq.runFunction(plotCalTagger,0,50000)\n",
    "\n",
    "ROOT.enableJSVis()\n",
    "\n",
    "# c1 = ROOT.TCanvas(\"my1\",\"Title\",1000,(taggerChannels/16)*1000)\n",
    "# c1.Divide(4,taggerChannels/4,0,0)\n",
    "c1 = ROOT.TCanvas(\"my1\",\"Title\",1000,2500)\n",
    "c1.Divide(2,5,0,0)\n",
    "\n",
    "print(\"almost done\")\n",
    "\n",
    "# for i in range(taggerChannels):\n",
    "for i in range(10):\n",
    "    c1.cd(i+1)\n",
    "    histos[i].SetTitle(\"Channel \"+str(i))\n",
    "    histos[i].Draw(\"colz\")\n",
    "    histos[i].Fit('myFit')\n",
    "    print(histos[i].GetParam(2))\n",
    "c1.Draw()\n"
   ]
  },
  {
   "cell_type": "markdown",
   "metadata": {},
   "source": [
    "Setting them to the ground?:"
   ]
  },
  {
   "cell_type": "code",
   "execution_count": null,
   "metadata": {},
   "outputs": [],
   "source": []
  },
  {
   "cell_type": "markdown",
   "metadata": {},
   "source": [
    "Testing Zone:"
   ]
  },
  {
   "cell_type": "code",
   "execution_count": 43,
   "metadata": {},
   "outputs": [
    {
     "name": "stderr",
     "output_type": "stream",
     "text": [
      "WARNING:ROOT.TCanvas.Constructor] Deleting canvas with same name: my1\n"
     ]
    },
    {
     "name": "stdout",
     "output_type": "stream",
     "text": [
      "(18.782896336644132, 879.1420867213186, 8.825971735291892, 7.266982750767076)\n",
      " FCN=1256.07 FROM MIGRAD    STATUS=CONVERGED     266 CALLS         267 TOTAL\n",
      "                     EDM=2.3061e-08    STRATEGY= 1      ERROR MATRIX ACCURATE \n",
      "  EXT PARAMETER                                   STEP         FIRST   \n",
      "  NO.   NAME      VALUE            ERROR          SIZE      DERIVATIVE \n",
      "   1  p0           1.87829e+01   1.39515e+00   2.04020e-02   4.76754e-05\n",
      "   2  p1           8.79142e+02   6.89720e-01   1.19156e-02  -7.73695e-05\n",
      "   3  p2           8.82595e+00   5.41234e-01   7.87004e-03  -4.16183e-05\n",
      "   4  p3           7.26699e+00   8.62581e-02   1.47449e-03   2.21378e-03\n"
     ]
    },
    {
     "data": {
      "text/html": [
       "\n",
       "<div id=\"root_plot_7\"\n",
       "     style=\"width: 996px; height: 972px\">\n",
       "</div>\n",
       "\n",
       "<script>\n",
       " requirejs.config({\n",
       "     paths: {\n",
       "       'JSRootCore' : 'https://root.cern.ch/js/notebook//scripts/JSRootCore',\n",
       "     }\n",
       "   });\n",
       " require(['JSRootCore'],\n",
       "     function(Core) {\n",
       "       var obj = Core.JSONR_unref({\"_typename\":\"TCanvas\",\"fUniqueID\":0,\"fBits\":53673992,\"fLineColor\":1,\"fLineStyle\":1,\"fLineWidth\":1,\"fFillColor\":0,\"fFillStyle\":1001,\"fLeftMargin\":0.1,\"fRightMargin\":0.1,\"fBottomMargin\":0.1,\"fTopMargin\":0.1,\"fXfile\":2,\"fYfile\":2,\"fAfile\":1,\"fXstat\":0.99,\"fYstat\":0.99,\"fAstat\":2,\"fFrameFillColor\":0,\"fFrameLineColor\":1,\"fFrameFillStyle\":1001,\"fFrameLineStyle\":1,\"fFrameLineWidth\":1,\"fFrameBorderSize\":1,\"fFrameBorderMode\":0,\"fX1\":149.999988824128,\"fY1\":-6.08009833879682,\"fX2\":1650.00001117587,\"fY2\":54.7208814251504,\"fXtoAbsPixelk\":-99.5999410950657,\"fXtoPixelk\":-99.5999410950657,\"fXtoPixel\":0.663999990105628,\"fYtoAbsPixelk\":874.800044206428,\"fYtoPixelk\":874.800044206428,\"fYtoPixel\":-15.9865844888302,\"fUtoAbsPixelk\":5e-5,\"fUtoPixelk\":5e-5,\"fUtoPixel\":996,\"fVtoAbsPixelk\":972.00005,\"fVtoPixelk\":972,\"fVtoPixel\":-972,\"fAbsPixeltoXk\":149.999988824128,\"fPixeltoXk\":149.999988824128,\"fPixeltoX\":1.50602411882705,\"fAbsPixeltoYk\":54.7208814251504,\"fPixeltoYk\":-6.08009833879682,\"fPixeltoY\":-0.0625524483168181,\"fXlowNDC\":0,\"fYlowNDC\":0,\"fXUpNDC\":0,\"fYUpNDC\":0,\"fWNDC\":1,\"fHNDC\":1,\"fAbsXlowNDC\":0,\"fAbsYlowNDC\":0,\"fAbsWNDC\":1,\"fAbsHNDC\":1,\"fUxmin\":300,\"fUymin\":0,\"fUxmax\":1500,\"fUymax\":48.6407830863536,\"fTheta\":30,\"fPhi\":30,\"fAspectRatio\":0,\"fNumber\":0,\"fTickx\":0,\"fTicky\":0,\"fLogx\":0,\"fLogy\":0,\"fLogz\":0,\"fPadPaint\":0,\"fCrosshair\":0,\"fCrosshairPos\":0,\"fBorderSize\":2,\"fBorderMode\":0,\"fModified\":false,\"fGridx\":false,\"fGridy\":false,\"fAbsCoord\":false,\"fEditable\":true,\"fFixedAspectRatio\":false,\"fPrimitives\":{\"_typename\":\"TList\",\"name\":\"TList\",\"arr\":[{\"_typename\":\"TFrame\",\"fUniqueID\":0,\"fBits\":50331656,\"fLineColor\":1,\"fLineStyle\":1,\"fLineWidth\":1,\"fFillColor\":0,\"fFillStyle\":1001,\"fX1\":300,\"fY1\":0,\"fX2\":1500,\"fY2\":48.6407830863536,\"fBorderSize\":1,\"fBorderMode\":0},{\"_typename\":\"TH1F\",\"fUniqueID\":0,\"fBits\":50331656,\"fName\":\"Hist_HdkGJzQKWvJ9heTNC5fUuN\",\"fTitle\":\"Channel 1\",\"fLineColor\":1,\"fLineStyle\":1,\"fLineWidth\":1,\"fFillColor\":0,\"fFillStyle\":0,\"fMarkerColor\":1,\"fMarkerStyle\":20,\"fMarkerSize\":1,\"fNcells\":1202,\"fXaxis\":{\"_typename\":\"TAxis\",\"fUniqueID\":0,\"fBits\":50331656,\"fName\":\"xaxis\",\"fTitle\":\"Time\",\"fNdivisions\":510,\"fAxisColor\":1,\"fLabelColor\":1,\"fLabelFont\":42,\"fLabelOffset\":0.005,\"fLabelSize\":0.035,\"fTickLength\":0.03,\"fTitleOffset\":1,\"fTitleSize\":0.035,\"fTitleColor\":1,\"fTitleFont\":42,\"fNbins\":1200,\"fXmin\":300,\"fXmax\":1500,\"fXbins\":[],\"fFirst\":0,\"fLast\":0,\"fBits2\":0,\"fTimeDisplay\":false,\"fTimeFormat\":\"\",\"fLabels\":null,\"fModLabs\":null},\"fYaxis\":{\"_typename\":\"TAxis\",\"fUniqueID\":0,\"fBits\":50331648,\"fName\":\"yaxis\",\"fTitle\":\"\",\"fNdivisions\":510,\"fAxisColor\":1,\"fLabelColor\":1,\"fLabelFont\":42,\"fLabelOffset\":0.005,\"fLabelSize\":0.035,\"fTickLength\":0.03,\"fTitleOffset\":0,\"fTitleSize\":0.035,\"fTitleColor\":1,\"fTitleFont\":42,\"fNbins\":1,\"fXmin\":0,\"fXmax\":1,\"fXbins\":[],\"fFirst\":0,\"fLast\":0,\"fBits2\":0,\"fTimeDisplay\":false,\"fTimeFormat\":\"\",\"fLabels\":null,\"fModLabs\":null},\"fZaxis\":{\"_typename\":\"TAxis\",\"fUniqueID\":0,\"fBits\":50331648,\"fName\":\"zaxis\",\"fTitle\":\"\",\"fNdivisions\":510,\"fAxisColor\":1,\"fLabelColor\":1,\"fLabelFont\":42,\"fLabelOffset\":0.005,\"fLabelSize\":0.035,\"fTickLength\":0.03,\"fTitleOffset\":1,\"fTitleSize\":0.035,\"fTitleColor\":1,\"fTitleFont\":42,\"fNbins\":1,\"fXmin\":0,\"fXmax\":1,\"fXbins\":[],\"fFirst\":0,\"fLast\":0,\"fBits2\":0,\"fTimeDisplay\":false,\"fTimeFormat\":\"\",\"fLabels\":null,\"fModLabs\":null},\"fBarOffset\":0,\"fBarWidth\":1000,\"fEntries\":9113,\"fTsumw\":9113,\"fTsumw2\":9113,\"fTsumwx\":8382201.60000002,\"fTsumwx2\":8471032001.46003,\"fMaximum\":-1111,\"fMinimum\":-1111,\"fNormFactor\":0,\"fContour\":[],\"fSumw2\":[0,0,0,0,0,0,0,0,0,0,0,0,0,0,0,0,0,0,0,0,0,0,0,0,0,0,0,0,0,0,0,0,0,0,0,0,0,0,0,0,0,0,0,0,0,0,0,0,0,0,0,0,0,0,0,0,0,0,0,0,0,0,0,0,0,0,0,0,0,0,0,0,0,0,0,0,0,0,0,0,0,0,0,0,0,0,0,0,0,0,0,0,0,0,0,0,0,0,0,0,0,0,0,0,0,0,6,13,6,9,8,11,10,7,9,7,10,11,6,12,8,8,6,10,11,8,7,8,8,11,7,7,4,5,7,11,11,11,12,6,7,10,6,7,9,12,7,4,12,6,12,8,8,7,9,10,8,8,7,6,7,8,11,13,6,2,12,5,2,11,8,5,8,9,9,8,7,8,10,6,7,11,6,6,10,10,9,6,8,5,5,4,13,3,7,11,15,9,9,5,5,16,3,6,7,8,9,8,10,10,8,13,9,10,6,9,13,8,4,8,8,10,11,5,7,11,13,8,11,10,6,7,8,9,8,9,10,6,9,8,14,10,6,6,9,9,6,13,11,3,9,7,7,13,10,4,14,11,12,7,6,12,8,14,12,6,8,8,10,6,10,12,10,8,9,10,9,10,6,6,10,9,3,6,5,6,4,6,7,10,3,9,7,6,5,9,9,7,8,9,3,8,6,5,14,6,8,11,10,9,5,7,14,10,4,6,7,10,6,8,9,8,11,7,14,5,9,5,6,13,11,12,5,10,3,13,3,6,13,9,7,7,11,9,7,8,6,11,5,12,7,6,4,10,5,13,14,10,13,8,9,13,12,7,7,14,5,4,8,17,11,7,6,19,8,9,5,6,11,13,9,10,6,11,5,8,9,9,10,3,7,13,6,10,12,14,6,5,14,11,6,6,5,9,9,5,3,11,5,15,17,8,7,3,9,4,7,8,13,3,16,9,9,7,6,13,8,7,10,7,10,10,6,9,7,12,6,12,5,5,5,7,7,8,7,11,11,9,6,10,11,8,3,7,7,4,5,10,5,6,7,5,14,17,3,9,6,14,11,9,9,14,5,4,8,6,7,6,10,12,9,7,10,12,8,9,11,6,4,4,7,4,8,7,10,9,9,11,6,4,12,14,7,4,10,8,8,8,7,8,6,5,9,7,6,10,6,6,8,10,5,5,13,15,15,12,5,7,7,9,10,10,5,8,5,10,5,11,13,9,8,5,10,7,3,13,7,8,15,3,9,10,7,4,7,9,7,8,8,11,7,10,14,6,9,12,18,13,12,19,21,25,25,21,23,27,20,25,37,29,20,40,13,22,25,23,22,18,27,18,37,18,24,20,8,12,17,5,5,11,8,9,6,13,11,12,7,11,11,10,3,12,6,10,14,12,5,6,7,6,11,5,5,8,8,10,4,9,13,10,7,5,6,10,7,5,9,8,7,6,9,6,3,12,7,6,11,6,11,12,11,10,5,8,7,5,6,13,8,6,6,6,14,11,8,11,11,10,6,8,4,11,7,5,9,14,3,8,11,13,13,8,12,2,7,13,9,8,7,14,8,5,8,14,8,9,8,4,6,11,10,13,9,8,9,9,9,9,7,6,9,10,8,6,3,9,6,10,8,9,6,6,11,8,14,8,9,8,10,4,6,8,16,10,5,9,2,5,6,10,8,6,9,9,13,6,10,5,12,7,8,12,9,5,9,13,10,7,8,14,2,11,5,5,1,11,8,8,11,8,12,9,11,5,6,12,6,11,6,5,11,9,12,8,4,7,7,4,8,7,9,13,6,12,6,12,11,10,8,17,9,11,6,9,13,5,9,12,11,10,5,9,6,9,12,12,10,7,9,12,10,8,10,9,6,8,16,10,11,16,6,8,10,9,12,5,10,8,5,3,8,10,10,12,7,6,9,11,2,4,8,11,8,5,9,17,16,3,8,11,11,7,8,11,11,13,6,8,7,6,8,3,3,7,5,10,5,4,8,8,8,8,6,5,7,8,9,10,10,9,11,10,12,11,11,12,9,13,7,7,11,9,10,12,13,6,5,8,7,9,7,8,11,6,9,13,7,11,7,8,12,7,12,13,9,6,11,12,11,7,9,7,7,5,4,7,11,10,6,8,12,11,7,7,8,8,7,12,18,8,10,8,10,17,12,10,12,9,9,10,13,9,8,9,6,11,13,7,6,13,5,7,6,4,11,6,4,5,10,8,10,5,9,12,6,6,9,9,12,5,13,11,12,7,3,5,13,10,9,4,13,8,11,7,5,7,10,10,7,9,11,9,12,13,10,7,15,13,13,6,7,8,9,9,16,6,4,4,3,9,8,11,11,9,7,10,17,5,10,6,5,5,8,12,11,5,10,10,11,17,9,7,5,8,9,8,4,13,7,17,5,9,13,6,4,11,3,10,6,5,8,7,11,10,10,7,17,8,9,8,7,9,8,11,6,8,12,7,6,10,14,7,9,11,12,4,8,9,8,9,4,10,7,12,5,7,8,9,11,7,8,9,6,15,11,3,9,4,10,5,8,7,8,8,9,3,3,13,7,11,0,0,0,0,0,0,0,0,0,0,0,0,0,0,0,0,0,0,0,0,0,0,0,0,0,0,0,0,0,0,0,0,0,0,0,0,0,0,0,0,0,0,0,0,0,0,0,0,0,0,0,0,0,0,0,0,0,0,0,0,0,0,0,0,0,0,0,0,0,0,0,0],\"fOption\":\"\",\"fFunctions\":{\"_typename\":\"TList\",\"name\":\"TList\",\"arr\":[{\"_typename\":\"TPaveStats\",\"fUniqueID\":0,\"fBits\":50331657,\"fLineColor\":1,\"fLineStyle\":1,\"fLineWidth\":1,\"fFillColor\":0,\"fFillStyle\":1001,\"fX1\":1320.00003039837,\"fY1\":41.0406613406644,\"fX2\":1620.00003933907,\"fY2\":50.7688178854547,\"fX1NDC\":0.780000016093254,\"fY1NDC\":0.775000005960464,\"fX2NDC\":0.980000019073486,\"fY2NDC\":0.935000002384186,\"fBorderSize\":1,\"fInit\":1,\"fShadowColor\":1,\"fCornerRadius\":0,\"fOption\":\"brNDC\",\"fName\":\"stats\",\"fTextAngle\":0,\"fTextSize\":0,\"fTextAlign\":12,\"fTextColor\":1,\"fTextFont\":42,\"fLabel\":\"\",\"fLongest\":27,\"fMargin\":0.05,\"fLines\":{\"_typename\":\"TList\",\"name\":\"TList\",\"arr\":[{\"_typename\":\"TLatex\",\"fUniqueID\":0,\"fBits\":50331648,\"fName\":\"\",\"fTitle\":\"Hist_HdkGJzQKWvJ9heTNC5fUuN\",\"fTextAngle\":0,\"fTextSize\":0.0368,\"fTextAlign\":0,\"fTextColor\":0,\"fTextFont\":0,\"fX\":0,\"fY\":0,\"fLineColor\":1,\"fLineStyle\":1,\"fLineWidth\":2,\"fLimitFactorSize\":3,\"fOriginSize\":0.0368000008165836},{\"_typename\":\"TLatex\",\"fUniqueID\":0,\"fBits\":50331648,\"fName\":\"\",\"fTitle\":\"Entries = 9113   \",\"fTextAngle\":0,\"fTextSize\":0,\"fTextAlign\":0,\"fTextColor\":0,\"fTextFont\":0,\"fX\":0,\"fY\":0,\"fLineColor\":1,\"fLineStyle\":1,\"fLineWidth\":2,\"fLimitFactorSize\":3,\"fOriginSize\":0.04},{\"_typename\":\"TLatex\",\"fUniqueID\":0,\"fBits\":50331648,\"fName\":\"\",\"fTitle\":\"Mean  =  919.8\",\"fTextAngle\":0,\"fTextSize\":0,\"fTextAlign\":0,\"fTextColor\":0,\"fTextFont\":0,\"fX\":0,\"fY\":0,\"fLineColor\":1,\"fLineStyle\":1,\"fLineWidth\":2,\"fLimitFactorSize\":3,\"fOriginSize\":0.04},{\"_typename\":\"TLatex\",\"fUniqueID\":0,\"fBits\":50331648,\"fName\":\"\",\"fTitle\":\"Std Dev   =    289\",\"fTextAngle\":0,\"fTextSize\":0,\"fTextAlign\":0,\"fTextColor\":0,\"fTextFont\":0,\"fX\":0,\"fY\":0,\"fLineColor\":1,\"fLineStyle\":1,\"fLineWidth\":2,\"fLimitFactorSize\":3,\"fOriginSize\":0.04}],\"opt\":[\"\",\"\",\"\",\"\"]},\"fOptFit\":0,\"fOptStat\":1111,\"fFitFormat\":\"5.4g\",\"fStatFormat\":\"6.4g\",\"fParent\":{\"$ref\":3}},{\"_typename\":\"TF1\",\"fUniqueID\":0,\"fBits\":50332680,\"fName\":\"myFit\",\"fTitle\":\"gaus(0)+pol0(3)\",\"fLineColor\":2,\"fLineStyle\":1,\"fLineWidth\":2,\"fFillColor\":19,\"fFillStyle\":0,\"fMarkerColor\":1,\"fMarkerStyle\":1,\"fMarkerSize\":1,\"fXmin\":300,\"fXmax\":1500,\"fNpar\":4,\"fNdim\":1,\"fNpx\":100,\"fType\":0,\"fNpfits\":1024,\"fNDF\":1020,\"fChisquare\":1256.06781803983,\"fMinimum\":-1111,\"fMaximum\":-1111,\"fParErrors\":[1.39514505959979,0.689720569468191,0.541235389958153,0.0862580592856986],\"fParMin\":[0,0,0,0],\"fParMax\":[0,0,0,0],\"fSave\":[7.26698275076708,7.26698275076708,7.26698275076708,7.26698275076708,7.26698275076708,7.26698275076708,7.26698275076708,7.26698275076708,7.26698275076708,7.26698275076708,7.26698275076708,7.26698275076708,7.26698275076708,7.26698275076708,7.26698275076708,7.26698275076708,7.26698275076708,7.26698275076708,7.26698275076708,7.26698275076708,7.26698275076708,7.26698275076708,7.26698275076708,7.26698275076708,7.26698275076708,7.26698275076708,7.26698275076708,7.26698275076708,7.26698275076708,7.26698275076708,7.26698275076708,7.26698275076708,7.26698275076708,7.26698275076708,7.26698275076708,7.26698275076708,7.26698275076708,7.26698275076708,7.26698275076708,7.26698275076708,7.26698275076708,7.26698275076708,7.26698275076708,7.26698275091157,7.26698371190095,7.26798942074244,7.43300428280566,11.5783576226702,24.8965325769077,18.6181553300136,8.4178210273825,7.28535498344084,7.26702893392684,7.26698276904721,7.26698275076822,7.26698275076708,7.26698275076708,7.26698275076708,7.26698275076708,7.26698275076708,7.26698275076708,7.26698275076708,7.26698275076708,7.26698275076708,7.26698275076708,7.26698275076708,7.26698275076708,7.26698275076708,7.26698275076708,7.26698275076708,7.26698275076708,7.26698275076708,7.26698275076708,7.26698275076708,7.26698275076708,7.26698275076708,7.26698275076708,7.26698275076708,7.26698275076708,7.26698275076708,7.26698275076708,7.26698275076708,7.26698275076708,7.26698275076708,7.26698275076708,7.26698275076708,7.26698275076708,7.26698275076708,7.26698275076708,7.26698275076708,7.26698275076708,7.26698275076708,7.26698275076708,7.26698275076708,7.26698275076708,7.26698275076708,7.26698275076708,7.26698275076708,7.26698275076708,7.26698275076708,7.26698275076708,300,1500],\"fNormalized\":false,\"fNormIntegral\":0,\"fFormula\":{\"_typename\":\"TFormula\",\"fUniqueID\":0,\"fBits\":50332672,\"fName\":\"myFit\",\"fTitle\":\"gaus(0)+pol0(3)\",\"fClingParameters\":[18.7828853838088,879.142087892525,8.82597525463559,7.26698275076708],\"fAllParametersSetted\":true,\"fParams\":[{\"$pair\":\"pair<TString,int,TFormulaParamOrder>\",\"first\":\"p0\",\"second\":0},{\"$pair\":\"pair<TString,int,TFormulaParamOrder>\",\"first\":\"p1\",\"second\":1},{\"$pair\":\"pair<TString,int,TFormulaParamOrder>\",\"first\":\"p2\",\"second\":2},{\"$pair\":\"pair<TString,int,TFormulaParamOrder>\",\"first\":\"p3\",\"second\":3}],\"fFormula\":\"[p0]*exp(-0.5*((x-[p1])\\/[p2])*((x-[p1])\\/[p2]))+[p3]\",\"fNdim\":1,\"fLinearParts\":[],\"fVectorized\":false},\"fParams\":null,\"fComposition_ptr\":null}],\"opt\":[\"brNDC\",\"\"]},\"fBufferSize\":0,\"fBuffer\":[],\"fBinStatErrOpt\":0,\"fStatOverflows\":2,\"fArray\":[0,0,0,0,0,0,0,0,0,0,0,0,0,0,0,0,0,0,0,0,0,0,0,0,0,0,0,0,0,0,0,0,0,0,0,0,0,0,0,0,0,0,0,0,0,0,0,0,0,0,0,0,0,0,0,0,0,0,0,0,0,0,0,0,0,0,0,0,0,0,0,0,0,0,0,0,0,0,0,0,0,0,0,0,0,0,0,0,0,0,0,0,0,0,0,0,0,0,0,0,0,0,0,0,0,0,6,13,6,9,8,11,10,7,9,7,10,11,6,12,8,8,6,10,11,8,7,8,8,11,7,7,4,5,7,11,11,11,12,6,7,10,6,7,9,12,7,4,12,6,12,8,8,7,9,10,8,8,7,6,7,8,11,13,6,2,12,5,2,11,8,5,8,9,9,8,7,8,10,6,7,11,6,6,10,10,9,6,8,5,5,4,13,3,7,11,15,9,9,5,5,16,3,6,7,8,9,8,10,10,8,13,9,10,6,9,13,8,4,8,8,10,11,5,7,11,13,8,11,10,6,7,8,9,8,9,10,6,9,8,14,10,6,6,9,9,6,13,11,3,9,7,7,13,10,4,14,11,12,7,6,12,8,14,12,6,8,8,10,6,10,12,10,8,9,10,9,10,6,6,10,9,3,6,5,6,4,6,7,10,3,9,7,6,5,9,9,7,8,9,3,8,6,5,14,6,8,11,10,9,5,7,14,10,4,6,7,10,6,8,9,8,11,7,14,5,9,5,6,13,11,12,5,10,3,13,3,6,13,9,7,7,11,9,7,8,6,11,5,12,7,6,4,10,5,13,14,10,13,8,9,13,12,7,7,14,5,4,8,17,11,7,6,19,8,9,5,6,11,13,9,10,6,11,5,8,9,9,10,3,7,13,6,10,12,14,6,5,14,11,6,6,5,9,9,5,3,11,5,15,17,8,7,3,9,4,7,8,13,3,16,9,9,7,6,13,8,7,10,7,10,10,6,9,7,12,6,12,5,5,5,7,7,8,7,11,11,9,6,10,11,8,3,7,7,4,5,10,5,6,7,5,14,17,3,9,6,14,11,9,9,14,5,4,8,6,7,6,10,12,9,7,10,12,8,9,11,6,4,4,7,4,8,7,10,9,9,11,6,4,12,14,7,4,10,8,8,8,7,8,6,5,9,7,6,10,6,6,8,10,5,5,13,15,15,12,5,7,7,9,10,10,5,8,5,10,5,11,13,9,8,5,10,7,3,13,7,8,15,3,9,10,7,4,7,9,7,8,8,11,7,10,14,6,9,12,18,13,12,19,21,25,25,21,23,27,20,25,37,29,20,40,13,22,25,23,22,18,27,18,37,18,24,20,8,12,17,5,5,11,8,9,6,13,11,12,7,11,11,10,3,12,6,10,14,12,5,6,7,6,11,5,5,8,8,10,4,9,13,10,7,5,6,10,7,5,9,8,7,6,9,6,3,12,7,6,11,6,11,12,11,10,5,8,7,5,6,13,8,6,6,6,14,11,8,11,11,10,6,8,4,11,7,5,9,14,3,8,11,13,13,8,12,2,7,13,9,8,7,14,8,5,8,14,8,9,8,4,6,11,10,13,9,8,9,9,9,9,7,6,9,10,8,6,3,9,6,10,8,9,6,6,11,8,14,8,9,8,10,4,6,8,16,10,5,9,2,5,6,10,8,6,9,9,13,6,10,5,12,7,8,12,9,5,9,13,10,7,8,14,2,11,5,5,1,11,8,8,11,8,12,9,11,5,6,12,6,11,6,5,11,9,12,8,4,7,7,4,8,7,9,13,6,12,6,12,11,10,8,17,9,11,6,9,13,5,9,12,11,10,5,9,6,9,12,12,10,7,9,12,10,8,10,9,6,8,16,10,11,16,6,8,10,9,12,5,10,8,5,3,8,10,10,12,7,6,9,11,2,4,8,11,8,5,9,17,16,3,8,11,11,7,8,11,11,13,6,8,7,6,8,3,3,7,5,10,5,4,8,8,8,8,6,5,7,8,9,10,10,9,11,10,12,11,11,12,9,13,7,7,11,9,10,12,13,6,5,8,7,9,7,8,11,6,9,13,7,11,7,8,12,7,12,13,9,6,11,12,11,7,9,7,7,5,4,7,11,10,6,8,12,11,7,7,8,8,7,12,18,8,10,8,10,17,12,10,12,9,9,10,13,9,8,9,6,11,13,7,6,13,5,7,6,4,11,6,4,5,10,8,10,5,9,12,6,6,9,9,12,5,13,11,12,7,3,5,13,10,9,4,13,8,11,7,5,7,10,10,7,9,11,9,12,13,10,7,15,13,13,6,7,8,9,9,16,6,4,4,3,9,8,11,11,9,7,10,17,5,10,6,5,5,8,12,11,5,10,10,11,17,9,7,5,8,9,8,4,13,7,17,5,9,13,6,4,11,3,10,6,5,8,7,11,10,10,7,17,8,9,8,7,9,8,11,6,8,12,7,6,10,14,7,9,11,12,4,8,9,8,9,4,10,7,12,5,7,8,9,11,7,8,9,6,15,11,3,9,4,10,5,8,7,8,8,9,3,3,13,7,11,0,0,0,0,0,0,0,0,0,0,0,0,0,0,0,0,0,0,0,0,0,0,0,0,0,0,0,0,0,0,0,0,0,0,0,0,0,0,0,0,0,0,0,0,0,0,0,0,0,0,0,0,0,0,0,0,0,0,0,0,0,0,0,0,0,0,0,0,0,0,0,0]},{\"_typename\":\"TPaveText\",\"fUniqueID\":0,\"fBits\":50331657,\"fLineColor\":1,\"fLineStyle\":1,\"fLineWidth\":1,\"fFillColor\":0,\"fFillStyle\":0,\"fX1\":711.054214051958,\"fY1\":51.072822879405,\"fX2\":1088.94578594804,\"fY2\":54.4168768162523,\"fX1NDC\":0.374036144578313,\"fY1NDC\":0.940000003948808,\"fX2NDC\":0.625963855421687,\"fY2NDC\":0.995000004768372,\"fBorderSize\":0,\"fInit\":1,\"fShadowColor\":1,\"fCornerRadius\":0,\"fOption\":\"blNDC\",\"fName\":\"title\",\"fTextAngle\":0,\"fTextSize\":0,\"fTextAlign\":22,\"fTextColor\":1,\"fTextFont\":42,\"fLabel\":\"\",\"fLongest\":9,\"fMargin\":0.05,\"fLines\":{\"_typename\":\"TList\",\"name\":\"TList\",\"arr\":[{\"_typename\":\"TLatex\",\"fUniqueID\":0,\"fBits\":50331648,\"fName\":\"\",\"fTitle\":\"Channel 1\",\"fTextAngle\":0,\"fTextSize\":0,\"fTextAlign\":0,\"fTextColor\":0,\"fTextFont\":0,\"fX\":0,\"fY\":0,\"fLineColor\":1,\"fLineStyle\":1,\"fLineWidth\":2,\"fLimitFactorSize\":3,\"fOriginSize\":0.0467500016093254}],\"opt\":[\"\"]}}],\"opt\":[\"\",\"colz\",\"blNDC\"]},\"fExecs\":null,\"fName\":\"my1\",\"fTitle\":\"Title\",\"fNumPaletteColor\":0,\"fNextPaletteColor\":0,\"fDISPLAY\":\"$DISPLAY\",\"fDoubleBuffer\":0,\"fRetained\":true,\"fXsizeUser\":0,\"fYsizeUser\":0,\"fXsizeReal\":20,\"fYsizeReal\":20,\"fWindowTopX\":0,\"fWindowTopY\":0,\"fWindowWidth\":0,\"fWindowHeight\":0,\"fCw\":996,\"fCh\":972,\"fCatt\":{\"_typename\":\"TAttCanvas\",\"fXBetween\":2,\"fYBetween\":2,\"fTitleFromTop\":1.2,\"fXdate\":0.2,\"fYdate\":0.3,\"fAdate\":1},\"kMoveOpaque\":true,\"kResizeOpaque\":true,\"fHighLightColor\":2,\"fBatch\":true,\"kShowEventStatus\":false,\"kAutoExec\":true,\"kMenuBar\":true});\n",
       "       Core.draw(\"root_plot_7\", obj, \"\");\n",
       "     }\n",
       " );\n",
       "</script>\n"
      ],
      "text/plain": [
       "<IPython.core.display.HTML object>"
      ]
     },
     "metadata": {},
     "output_type": "display_data"
    }
   ],
   "source": [
    "taggerChannels = aqdet.Channels['Tagger'] # number of channels in the tagger (368)\n",
    "\n",
    "bins = 1200\n",
    "h1 = Hist(bins,300,1500)\n",
    "\n",
    "def plotCalTagger():\n",
    "    data = aqdet.Calibrate(aq.adcArray)\n",
    "    taggerTimes = aqdet.Arrays['Tagger']['Time']\n",
    "    \n",
    "    for dat in taggerTimes:\n",
    "        for time in dat['Time']:\n",
    "            if (dat['channel']==1):\n",
    "                h1.Fill(time)\n",
    "        \n",
    "    \n",
    "aq.runFunction(plotCalTagger,0,50000)\n",
    "\n",
    "ROOT.enableJSVis()\n",
    "\n",
    "c1 = ROOT.TCanvas(\"my1\",\"Title\",1000,1000)\n",
    "\n",
    "h1.SetTitle(\"Channel 1\")\n",
    "h1.GetXaxis().SetTitle(\"Time\")\n",
    "h1.Draw(\"colz\")\n",
    "myFit = ROOT.TF1(\"myFit\",\"gaus(0)+pol0(3)\")\n",
    "myFit.SetParameter(1,880)\n",
    "myFit.SetParameter(2,10)\n",
    "h1.Fit('myFit')\n",
    "\n",
    "\n",
    "con = h1.Fit('myFit', 'SQ').Get().Parameter(0)\n",
    "mean = h1.Fit('myFit', 'SQ').Get().Parameter(1)\n",
    "stdev = h1.Fit('myFit','SQ').Get().Parameter(2)\n",
    "offset = h1.Fit('myFit','SQ').Get().Parameter(3)\n",
    "print(con,mean,stdev,offset)\n",
    "\n",
    "c1.Draw()"
   ]
  },
  {
   "cell_type": "code",
   "execution_count": null,
   "metadata": {},
   "outputs": [],
   "source": []
  },
  {
   "cell_type": "code",
   "execution_count": null,
   "metadata": {},
   "outputs": [],
   "source": []
  }
 ],
 "metadata": {
  "kernelspec": {
   "display_name": "Python 2",
   "language": "python",
   "name": "python2"
  },
  "language_info": {
   "codemirror_mode": {
    "name": "ipython",
    "version": 2
   },
   "file_extension": ".py",
   "mimetype": "text/x-python",
   "name": "python",
   "nbconvert_exporter": "python",
   "pygments_lexer": "ipython2",
   "version": "2.7.5"
  }
 },
 "nbformat": 4,
 "nbformat_minor": 2
}
